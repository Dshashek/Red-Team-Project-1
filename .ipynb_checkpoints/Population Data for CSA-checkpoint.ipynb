{
 "cells": [
  {
   "cell_type": "code",
   "execution_count": 1,
   "metadata": {},
   "outputs": [],
   "source": [
    "import pandas as pd\n",
    "from config import key\n",
    "import requests\n",
    "from census import Census\n",
    "from us import states\n",
    "from config import (key)\n",
    "\n",
    "c = Census(key, year=2010)"
   ]
  },
  {
   "cell_type": "code",
   "execution_count": 2,
   "metadata": {},
   "outputs": [],
   "source": [
    "csa_data = pd.read_csv('./Data Files/Population Lookup Data.csv')\n",
    "csa_data = csa_data.loc[csa_data['CSA'] > 0]\n",
    "csa_data = csa_data.astype({'CSA':int})\n",
    "csa_data.index = range(len(csa_data))\n"
   ]
  },
  {
   "cell_type": "code",
   "execution_count": 3,
   "metadata": {},
   "outputs": [],
   "source": [
    "populations = []\n",
    "counter = 0\n",
    "pop = []\n",
    "\n",
    "for team in csa_data.iterrows():\n",
    "    if counter == len(csa_data):\n",
    "        break\n",
    "    target = getattr(states, csa_data[\"States\"][counter]).fips\n",
    "    census_data = c.sf1.state_csa(('P001001','NAME'), target, csa_data['CSA'][counter])\n",
    "    populations.append(census_data)\n",
    "    counter = counter + 1\n"
   ]
  },
  {
   "cell_type": "code",
   "execution_count": 4,
   "metadata": {},
   "outputs": [],
   "source": [
    "counter = 0\n",
    "pop = []\n",
    "for team in populations:\n",
    "    if counter == len(populations):\n",
    "        break\n",
    "    pop.append(populations[counter][0]['P001001'])\n",
    "    counter = counter + 1"
   ]
  },
  {
   "cell_type": "code",
   "execution_count": 5,
   "metadata": {
    "scrolled": true
   },
   "outputs": [],
   "source": [
    "counter = 0\n",
    "team = []\n",
    "for code in csa_data.iterrows():\n",
    "    if counter == len(csa_data):\n",
    "        break\n",
    "    team.append(csa_data['Team Code'][counter])\n",
    "    counter = counter + 1"
   ]
  },
  {
   "cell_type": "code",
   "execution_count": 27,
   "metadata": {},
   "outputs": [],
   "source": [
    "pop = list(map(int, pop))"
   ]
  },
  {
   "cell_type": "code",
   "execution_count": 43,
   "metadata": {},
   "outputs": [],
   "source": [
    "team_pop = {'team':team,'pop':pop}"
   ]
  },
  {
   "cell_type": "code",
   "execution_count": 46,
   "metadata": {},
   "outputs": [],
   "source": [
    "team_pop_df = pd.DataFrame(team_pop)"
   ]
  },
  {
   "cell_type": "code",
   "execution_count": 47,
   "metadata": {},
   "outputs": [],
   "source": [
    "team_pop_df = team_pop_df.groupby(team)\n",
    "team_pop_df = team_pop_df.sum()"
   ]
  },
  {
   "cell_type": "code",
   "execution_count": 48,
   "metadata": {},
   "outputs": [],
   "source": [
    "team_pop_df.to_csv('./Data Files/2010 CSA Population by Team.csv')"
   ]
  },
  {
   "cell_type": "code",
   "execution_count": null,
   "metadata": {},
   "outputs": [],
   "source": []
  }
 ],
 "metadata": {
  "kernelspec": {
   "display_name": "Python [conda env:PythonData]",
   "language": "python",
   "name": "conda-env-PythonData-py"
  },
  "language_info": {
   "codemirror_mode": {
    "name": "ipython",
    "version": 3
   },
   "file_extension": ".py",
   "mimetype": "text/x-python",
   "name": "python",
   "nbconvert_exporter": "python",
   "pygments_lexer": "ipython3",
   "version": "3.6.8"
  }
 },
 "nbformat": 4,
 "nbformat_minor": 2
}
