{
 "cells": [
  {
   "cell_type": "code",
   "execution_count": 208,
   "metadata": {},
   "outputs": [],
   "source": [
    "import pandas as pd\n",
    "import matplotlib.pyplot as plt\n",
    "from scipy.stats import linregress"
   ]
  },
  {
   "cell_type": "code",
   "execution_count": 209,
   "metadata": {},
   "outputs": [],
   "source": [
    "stadiums = pd.read_csv('./Data Files/Stadium City and Capacity.csv')\n",
    "attendance = pd.read_csv('./Data Files/Clean Attendance Payroll and Year.csv')"
   ]
  },
  {
   "cell_type": "code",
   "execution_count": 210,
   "metadata": {},
   "outputs": [
    {
     "data": {
      "text/html": [
       "<div>\n",
       "<style scoped>\n",
       "    .dataframe tbody tr th:only-of-type {\n",
       "        vertical-align: middle;\n",
       "    }\n",
       "\n",
       "    .dataframe tbody tr th {\n",
       "        vertical-align: top;\n",
       "    }\n",
       "\n",
       "    .dataframe thead th {\n",
       "        text-align: right;\n",
       "    }\n",
       "</style>\n",
       "<table border=\"1\" class=\"dataframe\">\n",
       "  <thead>\n",
       "    <tr style=\"text-align: right;\">\n",
       "      <th></th>\n",
       "      <th>Tm</th>\n",
       "      <th>Stadium</th>\n",
       "      <th>Capacity</th>\n",
       "      <th>City</th>\n",
       "      <th>Team</th>\n",
       "      <th>Unnamed: 0</th>\n",
       "      <th>Attendance</th>\n",
       "      <th>Attend/G</th>\n",
       "      <th>Est. Payroll</th>\n",
       "      <th>year</th>\n",
       "    </tr>\n",
       "  </thead>\n",
       "  <tbody>\n",
       "    <tr>\n",
       "      <th>0</th>\n",
       "      <td>ARI</td>\n",
       "      <td>Chase Field</td>\n",
       "      <td>48,686</td>\n",
       "      <td>Pheonix, AZ</td>\n",
       "      <td>Arizona Diamondbacks</td>\n",
       "      <td>0</td>\n",
       "      <td>2091685</td>\n",
       "      <td>25823</td>\n",
       "      <td>$59984226</td>\n",
       "      <td>2006</td>\n",
       "    </tr>\n",
       "    <tr>\n",
       "      <th>1</th>\n",
       "      <td>ARI</td>\n",
       "      <td>Chase Field</td>\n",
       "      <td>48,686</td>\n",
       "      <td>Pheonix, AZ</td>\n",
       "      <td>Arizona Diamondbacks</td>\n",
       "      <td>30</td>\n",
       "      <td>2325249</td>\n",
       "      <td>28707</td>\n",
       "      <td>$52067546</td>\n",
       "      <td>2007</td>\n",
       "    </tr>\n",
       "    <tr>\n",
       "      <th>2</th>\n",
       "      <td>ARI</td>\n",
       "      <td>Chase Field</td>\n",
       "      <td>48,686</td>\n",
       "      <td>Pheonix, AZ</td>\n",
       "      <td>Arizona Diamondbacks</td>\n",
       "      <td>60</td>\n",
       "      <td>2509924</td>\n",
       "      <td>30987</td>\n",
       "      <td>$66202712</td>\n",
       "      <td>2008</td>\n",
       "    </tr>\n",
       "    <tr>\n",
       "      <th>3</th>\n",
       "      <td>ARI</td>\n",
       "      <td>Chase Field</td>\n",
       "      <td>48,686</td>\n",
       "      <td>Pheonix, AZ</td>\n",
       "      <td>Arizona Diamondbacks</td>\n",
       "      <td>90</td>\n",
       "      <td>2128765</td>\n",
       "      <td>26281</td>\n",
       "      <td>$75920666</td>\n",
       "      <td>2009</td>\n",
       "    </tr>\n",
       "    <tr>\n",
       "      <th>4</th>\n",
       "      <td>ARI</td>\n",
       "      <td>Chase Field</td>\n",
       "      <td>48,686</td>\n",
       "      <td>Pheonix, AZ</td>\n",
       "      <td>Arizona Diamondbacks</td>\n",
       "      <td>120</td>\n",
       "      <td>2056697</td>\n",
       "      <td>25391</td>\n",
       "      <td>$61368166</td>\n",
       "      <td>2010</td>\n",
       "    </tr>\n",
       "  </tbody>\n",
       "</table>\n",
       "</div>"
      ],
      "text/plain": [
       "    Tm      Stadium Capacity         City                  Team  Unnamed: 0  \\\n",
       "0  ARI  Chase Field   48,686  Pheonix, AZ  Arizona Diamondbacks           0   \n",
       "1  ARI  Chase Field   48,686  Pheonix, AZ  Arizona Diamondbacks          30   \n",
       "2  ARI  Chase Field   48,686  Pheonix, AZ  Arizona Diamondbacks          60   \n",
       "3  ARI  Chase Field   48,686  Pheonix, AZ  Arizona Diamondbacks          90   \n",
       "4  ARI  Chase Field   48,686  Pheonix, AZ  Arizona Diamondbacks         120   \n",
       "\n",
       "   Attendance  Attend/G Est. Payroll  year  \n",
       "0     2091685     25823    $59984226  2006  \n",
       "1     2325249     28707    $52067546  2007  \n",
       "2     2509924     30987    $66202712  2008  \n",
       "3     2128765     26281    $75920666  2009  \n",
       "4     2056697     25391    $61368166  2010  "
      ]
     },
     "execution_count": 210,
     "metadata": {},
     "output_type": "execute_result"
    }
   ],
   "source": [
    "stadiums = stadiums.rename(columns = {'Team Code':'Tm'})\n",
    "combined = stadiums.merge(attendance, on = 'Tm')\n",
    "\n",
    "combined.head()"
   ]
  },
  {
   "cell_type": "code",
   "execution_count": 211,
   "metadata": {},
   "outputs": [],
   "source": [
    "attendance = []\n",
    "payroll = []\n",
    "\n",
    "attendance.append(combined['Attend/G'])\n",
    "payroll.append(combined['Est. Payroll'])\n",
    "    \n",
    "payroll = combined['Est. Payroll'].str[1:]\n",
    "\n",
    "payroll = pd.to_numeric(payroll)\n",
    "attendance = pd.to_numeric(attendance[0])"
   ]
  },
  {
   "cell_type": "code",
   "execution_count": 236,
   "metadata": {},
   "outputs": [
    {
     "name": "stdout",
     "output_type": "stream",
     "text": [
      "0    59984226\n",
      "1    52067546\n",
      "2    66202712\n",
      "3    75920666\n",
      "4    61368166\n",
      "Name: Est. Payroll, dtype: int64\n",
      "0    25823\n",
      "1    28707\n",
      "2    30987\n",
      "3    26281\n",
      "4    25391\n",
      "Name: Attend/G, dtype: int64\n"
     ]
    }
   ],
   "source": [
    "print(payroll.head())\n",
    "print(attendance.head())\n",
    "\n",
    "correlation = payroll.corr(attendance)"
   ]
  },
  {
   "cell_type": "code",
   "execution_count": 288,
   "metadata": {},
   "outputs": [
    {
     "data": {
      "image/png": "[encoded data removed]",
      "text/plain": [
       "<Figure size 864x648 with 1 Axes>"
      ]
     },
     "metadata": {
      "needs_background": "light"
     },
     "output_type": "display_data"
    },
    {
     "data": {
      "text/plain": [
       "<Figure size 864x648 with 0 Axes>"
      ]
     },
     "metadata": {},
     "output_type": "display_data"
    }
   ],
   "source": [
    "# Plot data\n",
    "\n",
    "(slope, intercept, _, _, _) = linregress(attendance, payroll)\n",
    "fit = slope * attendance + intercept\n",
    "\n",
    "fig, ax = plt.subplots()\n",
    "\n",
    "fig.suptitle(\"Attendance vs Payroll\", fontsize=16, fontweight=\"bold\")\n",
    "\n",
    "ax.set_xlabel('Attendance Per Game vs Estimated Payroll')\n",
    "ax.set_ylabel('Estimated Payroll (in 100s of Millions)')\n",
    "\n",
    "ax.plot(attendance, payroll, linewidth=0, marker='o')\n",
    "\n",
    "ax.plot(attendance, fit, 'b--')\n",
    "\n",
    "plt.figtext(.91,.62,(f\"Correlation:{correlation}\"))\n",
    "\n",
    "plt.show()\n",
    "plt.savefig('data')"
   ]
  },
  {
   "cell_type": "code",
   "execution_count": 280,
   "metadata": {},
   "outputs": [
    {
     "data": {
      "text/plain": [
       "<Figure size 864x648 with 0 Axes>"
      ]
     },
     "metadata": {},
     "output_type": "display_data"
    }
   ],
   "source": []
  },
  {
   "cell_type": "code",
   "execution_count": null,
   "metadata": {},
   "outputs": [],
   "source": []
  }
 ],
 "metadata": {
  "kernelspec": {
   "display_name": "Python [conda env:pythondata] *",
   "language": "python",
   "name": "conda-env-pythondata-py"
  },
  "language_info": {
   "codemirror_mode": {
    "name": "ipython",
    "version": 3
   },
   "file_extension": ".py",
   "mimetype": "text/x-python",
   "name": "python",
   "nbconvert_exporter": "python",
   "pygments_lexer": "ipython3",
   "version": "3.6.8"
  }
 },
 "nbformat": 4,
 "nbformat_minor": 2
}
