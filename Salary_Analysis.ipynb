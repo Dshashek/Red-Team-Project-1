{
 "cells": [
  {
   "cell_type": "code",
   "execution_count": 1,
   "metadata": {},
   "outputs": [],
   "source": [
    "import pandas as pd\n",
    "import matplotlib as plt"
   ]
  },
  {
   "cell_type": "code",
   "execution_count": 7,
   "metadata": {},
   "outputs": [
    {
     "data": {
      "text/html": [
       "<div>\n",
       "<style scoped>\n",
       "    .dataframe tbody tr th:only-of-type {\n",
       "        vertical-align: middle;\n",
       "    }\n",
       "\n",
       "    .dataframe tbody tr th {\n",
       "        vertical-align: top;\n",
       "    }\n",
       "\n",
       "    .dataframe thead th {\n",
       "        text-align: right;\n",
       "    }\n",
       "</style>\n",
       "<table border=\"1\" class=\"dataframe\">\n",
       "  <thead>\n",
       "    <tr style=\"text-align: right;\">\n",
       "      <th></th>\n",
       "      <th>Unnamed: 0</th>\n",
       "      <th>Tm</th>\n",
       "      <th>Attendance</th>\n",
       "      <th>Attend/G</th>\n",
       "      <th>Est. Payroll</th>\n",
       "      <th>Year</th>\n",
       "    </tr>\n",
       "  </thead>\n",
       "  <tbody>\n",
       "    <tr>\n",
       "      <th>0</th>\n",
       "      <td>0</td>\n",
       "      <td>ARI</td>\n",
       "      <td>2091685</td>\n",
       "      <td>25823</td>\n",
       "      <td>$59984226</td>\n",
       "      <td>2006</td>\n",
       "    </tr>\n",
       "    <tr>\n",
       "      <th>1</th>\n",
       "      <td>1</td>\n",
       "      <td>ATL</td>\n",
       "      <td>2550524</td>\n",
       "      <td>31488</td>\n",
       "      <td>$90156876</td>\n",
       "      <td>2006</td>\n",
       "    </tr>\n",
       "    <tr>\n",
       "      <th>2</th>\n",
       "      <td>2</td>\n",
       "      <td>BAL</td>\n",
       "      <td>2153139</td>\n",
       "      <td>26582</td>\n",
       "      <td>$72585582</td>\n",
       "      <td>2006</td>\n",
       "    </tr>\n",
       "    <tr>\n",
       "      <th>3</th>\n",
       "      <td>3</td>\n",
       "      <td>BOS</td>\n",
       "      <td>2930588</td>\n",
       "      <td>36180</td>\n",
       "      <td>$120099824</td>\n",
       "      <td>2006</td>\n",
       "    </tr>\n",
       "    <tr>\n",
       "      <th>4</th>\n",
       "      <td>4</td>\n",
       "      <td>CHC</td>\n",
       "      <td>3123215</td>\n",
       "      <td>38558</td>\n",
       "      <td>$94424499</td>\n",
       "      <td>2006</td>\n",
       "    </tr>\n",
       "  </tbody>\n",
       "</table>\n",
       "</div>"
      ],
      "text/plain": [
       "   Unnamed: 0   Tm  Attendance  Attend/G Est. Payroll  Year\n",
       "0           0  ARI     2091685     25823    $59984226  2006\n",
       "1           1  ATL     2550524     31488    $90156876  2006\n",
       "2           2  BAL     2153139     26582    $72585582  2006\n",
       "3           3  BOS     2930588     36180   $120099824  2006\n",
       "4           4  CHC     3123215     38558    $94424499  2006"
      ]
     },
     "execution_count": 7,
     "metadata": {},
     "output_type": "execute_result"
    }
   ],
   "source": [
    "#import csv file\n",
    "salary_data = pd.read_csv('Data Files/Clean_Payroll.csv')\n",
    "salary_data.head()"
   ]
  },
  {
   "cell_type": "code",
   "execution_count": 15,
   "metadata": {},
   "outputs": [
    {
     "data": {
      "text/plain": [
       "0      25823\n",
       "1      31488\n",
       "2      26582\n",
       "3      36180\n",
       "4      38558\n",
       "5      36511\n",
       "6      26353\n",
       "7      24667\n",
       "8      25980\n",
       "9      32049\n",
       "10     14372\n",
       "11     37318\n",
       "12     16946\n",
       "13     42059\n",
       "14     46402\n",
       "15     28835\n",
       "16     28210\n",
       "17     41723\n",
       "18     52445\n",
       "19     24403\n",
       "20     33356\n",
       "21     22982\n",
       "22     32837\n",
       "23     30632\n",
       "24     38646\n",
       "25     42589\n",
       "26     16901\n",
       "27     29491\n",
       "28     28422\n",
       "29     26581\n",
       "       ...  \n",
       "300    25138\n",
       "301    24950\n",
       "302    26819\n",
       "303    36487\n",
       "304    39906\n",
       "305    21559\n",
       "306    23384\n",
       "307    19650\n",
       "308    32130\n",
       "309    31173\n",
       "310    28477\n",
       "311    31577\n",
       "312    37236\n",
       "313    45720\n",
       "314    21405\n",
       "315    28575\n",
       "316    24246\n",
       "317    34440\n",
       "318    37820\n",
       "319    18784\n",
       "320    23644\n",
       "321    27768\n",
       "322    29030\n",
       "323    27999\n",
       "324    41546\n",
       "325    42525\n",
       "326    15879\n",
       "327    33462\n",
       "328    41878\n",
       "329    30641\n",
       "Name: Attend/G, Length: 330, dtype: int64"
      ]
     },
     "execution_count": 15,
     "metadata": {},
     "output_type": "execute_result"
    }
   ],
   "source": [
    "#define x and y points\n",
    "pd.to_numeric(salary_data['Attend/G'])\n"
   ]
  },
  {
   "cell_type": "code",
   "execution_count": null,
   "metadata": {},
   "outputs": [],
   "source": []
  }
 ],
 "metadata": {
  "kernelspec": {
   "display_name": "Python [conda env:PythonData] *",
   "language": "python",
   "name": "conda-env-PythonData-py"
  },
  "language_info": {
   "codemirror_mode": {
    "name": "ipython",
    "version": 3
   },
   "file_extension": ".py",
   "mimetype": "text/x-python",
   "name": "python",
   "nbconvert_exporter": "python",
   "pygments_lexer": "ipython3",
   "version": "3.6.8"
  }
 },
 "nbformat": 4,
 "nbformat_minor": 2
}
