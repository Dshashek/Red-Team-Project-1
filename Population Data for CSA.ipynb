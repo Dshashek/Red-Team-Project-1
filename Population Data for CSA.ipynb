{
 "cells": [
  {
   "cell_type": "code",
   "execution_count": 13,
   "metadata": {},
   "outputs": [],
   "source": [
    "import pandas as pd\n",
    "from config import key\n",
    "import requests\n",
    "from census import Census\n",
    "from us import states\n",
    "from config import (key)\n",
    "\n",
    "c = Census(key, year=2010)"
   ]
  },
  {
   "cell_type": "code",
   "execution_count": 14,
   "metadata": {},
   "outputs": [],
   "source": [
    "csa_data = pd.read_csv('./Data Files/Population Lookup Data.csv')\n",
    "csa_data = csa_data.loc[csa_data['CSA'] > 0]\n",
    "csa_data = csa_data.astype({'CSA':int})\n",
    "csa_data.index = range(len(csa_data))\n"
   ]
  },
  {
   "cell_type": "code",
   "execution_count": 15,
   "metadata": {},
   "outputs": [],
   "source": [
    "populations = []\n",
    "counter = 0\n",
    "pop = []\n",
    "\n",
    "for team in csa_data.iterrows():\n",
    "    if counter == len(csa_data):\n",
    "        break\n",
    "    target = getattr(states, csa_data[\"States\"][counter]).fips\n",
    "    census_data = c.sf1.state_csa(('P001001','NAME'), target, csa_data['CSA'][counter])\n",
    "    populations.append(census_data)\n",
    "    counter = counter + 1\n"
   ]
  },
  {
   "cell_type": "code",
   "execution_count": 16,
   "metadata": {},
   "outputs": [],
   "source": [
    "counter = 0\n",
    "pop = []\n",
    "for team in populations:\n",
    "    if counter == len(populations):\n",
    "        break\n",
    "    pop.append(populations[counter][0]['P001001'])\n",
    "    counter = counter + 1"
   ]
  },
  {
   "cell_type": "code",
   "execution_count": 17,
   "metadata": {
    "scrolled": true
   },
   "outputs": [],
   "source": [
    "counter = 0\n",
    "team = []\n",
    "for code in csa_data.iterrows():\n",
    "    if counter == len(csa_data):\n",
    "        break\n",
    "    team.append(csa_data['Team Code'][counter])\n",
    "    counter = counter + 1"
   ]
  },
  {
   "cell_type": "code",
   "execution_count": 18,
   "metadata": {},
   "outputs": [],
   "source": [
    "pop = list(map(int, pop))"
   ]
  },
  {
   "cell_type": "code",
   "execution_count": 19,
   "metadata": {},
   "outputs": [],
   "source": [
    "team_pop = {'team':team,'pop':pop}"
   ]
  },
  {
   "cell_type": "code",
   "execution_count": 20,
   "metadata": {},
   "outputs": [],
   "source": [
    "team_pop_df = pd.DataFrame(team_pop)"
   ]
  },
  {
   "cell_type": "code",
   "execution_count": 21,
   "metadata": {},
   "outputs": [
    {
     "data": {
      "text/html": [
       "<div>\n",
       "<style scoped>\n",
       "    .dataframe tbody tr th:only-of-type {\n",
       "        vertical-align: middle;\n",
       "    }\n",
       "\n",
       "    .dataframe tbody tr th {\n",
       "        vertical-align: top;\n",
       "    }\n",
       "\n",
       "    .dataframe thead th {\n",
       "        text-align: right;\n",
       "    }\n",
       "</style>\n",
       "<table border=\"1\" class=\"dataframe\">\n",
       "  <thead>\n",
       "    <tr style=\"text-align: right;\">\n",
       "      <th></th>\n",
       "      <th>pop</th>\n",
       "    </tr>\n",
       "    <tr>\n",
       "      <th>team</th>\n",
       "      <th></th>\n",
       "    </tr>\n",
       "  </thead>\n",
       "  <tbody>\n",
       "    <tr>\n",
       "      <th>ATL</th>\n",
       "      <td>5584216</td>\n",
       "    </tr>\n",
       "    <tr>\n",
       "      <th>BAL</th>\n",
       "      <td>8495509</td>\n",
       "    </tr>\n",
       "    <tr>\n",
       "      <th>BOS</th>\n",
       "      <td>5480873</td>\n",
       "    </tr>\n",
       "    <tr>\n",
       "      <th>CHC</th>\n",
       "      <td>9686021</td>\n",
       "    </tr>\n",
       "    <tr>\n",
       "      <th>CHW</th>\n",
       "      <td>9686021</td>\n",
       "    </tr>\n",
       "    <tr>\n",
       "      <th>CIN</th>\n",
       "      <td>2172191</td>\n",
       "    </tr>\n",
       "    <tr>\n",
       "      <th>CLE</th>\n",
       "      <td>2881937</td>\n",
       "    </tr>\n",
       "    <tr>\n",
       "      <th>COL</th>\n",
       "      <td>3090874</td>\n",
       "    </tr>\n",
       "    <tr>\n",
       "      <th>DET</th>\n",
       "      <td>5218852</td>\n",
       "    </tr>\n",
       "    <tr>\n",
       "      <th>HOU</th>\n",
       "      <td>6051363</td>\n",
       "    </tr>\n",
       "    <tr>\n",
       "      <th>KCR</th>\n",
       "      <td>2104853</td>\n",
       "    </tr>\n",
       "    <tr>\n",
       "      <th>LAA</th>\n",
       "      <td>17877006</td>\n",
       "    </tr>\n",
       "    <tr>\n",
       "      <th>LAD</th>\n",
       "      <td>17877006</td>\n",
       "    </tr>\n",
       "    <tr>\n",
       "      <th>MIL</th>\n",
       "      <td>1751316</td>\n",
       "    </tr>\n",
       "    <tr>\n",
       "      <th>MIN</th>\n",
       "      <td>3615902</td>\n",
       "    </tr>\n",
       "    <tr>\n",
       "      <th>NYM</th>\n",
       "      <td>22085649</td>\n",
       "    </tr>\n",
       "    <tr>\n",
       "      <th>NYY</th>\n",
       "      <td>22085649</td>\n",
       "    </tr>\n",
       "    <tr>\n",
       "      <th>OAK</th>\n",
       "      <td>7468390</td>\n",
       "    </tr>\n",
       "    <tr>\n",
       "      <th>PHI</th>\n",
       "      <td>6533683</td>\n",
       "    </tr>\n",
       "    <tr>\n",
       "      <th>PIT</th>\n",
       "      <td>2447393</td>\n",
       "    </tr>\n",
       "    <tr>\n",
       "      <th>SEA</th>\n",
       "      <td>4199312</td>\n",
       "    </tr>\n",
       "    <tr>\n",
       "      <th>SFG</th>\n",
       "      <td>7468390</td>\n",
       "    </tr>\n",
       "    <tr>\n",
       "      <th>STL</th>\n",
       "      <td>2878255</td>\n",
       "    </tr>\n",
       "    <tr>\n",
       "      <th>TEX</th>\n",
       "      <td>6731317</td>\n",
       "    </tr>\n",
       "    <tr>\n",
       "      <th>WSH</th>\n",
       "      <td>8495509</td>\n",
       "    </tr>\n",
       "  </tbody>\n",
       "</table>\n",
       "</div>"
      ],
      "text/plain": [
       "           pop\n",
       "team          \n",
       "ATL    5584216\n",
       "BAL    8495509\n",
       "BOS    5480873\n",
       "CHC    9686021\n",
       "CHW    9686021\n",
       "CIN    2172191\n",
       "CLE    2881937\n",
       "COL    3090874\n",
       "DET    5218852\n",
       "HOU    6051363\n",
       "KCR    2104853\n",
       "LAA   17877006\n",
       "LAD   17877006\n",
       "MIL    1751316\n",
       "MIN    3615902\n",
       "NYM   22085649\n",
       "NYY   22085649\n",
       "OAK    7468390\n",
       "PHI    6533683\n",
       "PIT    2447393\n",
       "SEA    4199312\n",
       "SFG    7468390\n",
       "STL    2878255\n",
       "TEX    6731317\n",
       "WSH    8495509"
      ]
     },
     "execution_count": 21,
     "metadata": {},
     "output_type": "execute_result"
    }
   ],
   "source": [
    "team_pop_df = team_pop_df.groupby('team')\n",
    "team_pop_df = team_pop_df.sum()\n",
    "team_pop_df"
   ]
  },
  {
   "cell_type": "code",
   "execution_count": 22,
   "metadata": {},
   "outputs": [],
   "source": [
    "team_pop_df.to_csv('./Data Files/2010 CSA Population by Team.csv')"
   ]
  },
  {
   "cell_type": "code",
   "execution_count": null,
   "metadata": {},
   "outputs": [],
   "source": []
  }
 ],
 "metadata": {
  "kernelspec": {
   "display_name": "Python [conda env:PythonData]",
   "language": "python",
   "name": "conda-env-PythonData-py"
  },
  "language_info": {
   "codemirror_mode": {
    "name": "ipython",
    "version": 3
   },
   "file_extension": ".py",
   "mimetype": "text/x-python",
   "name": "python",
   "nbconvert_exporter": "python",
   "pygments_lexer": "ipython3",
   "version": "3.6.8"
  }
 },
 "nbformat": 4,
 "nbformat_minor": 2
}
